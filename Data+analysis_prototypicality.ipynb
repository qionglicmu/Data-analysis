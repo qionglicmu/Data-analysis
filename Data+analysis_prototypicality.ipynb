{
 "cells": [
  {
   "cell_type": "code",
   "execution_count": 119,
   "metadata": {
    "collapsed": true
   },
   "outputs": [],
   "source": [
    "import os\n",
    "import pandas as pd\n",
    "import matplotlib.pyplot as plt\n",
    "%matplotlib inline\n",
    "import numpy as np"
   ]
  },
  {
   "cell_type": "code",
   "execution_count": 7,
   "metadata": {
    "collapsed": true
   },
   "outputs": [],
   "source": [
    "os.chdir(\"/Users/qiongli/Dropbox/Dissertation/Data Analysis\")\n",
    "#os.getcwd()"
   ]
  },
  {
   "cell_type": "markdown",
   "metadata": {},
   "source": [
    "# Control: W + a"
   ]
  },
  {
   "cell_type": "code",
   "execution_count": 111,
   "metadata": {},
   "outputs": [],
   "source": [
    "file_name = 'Analysis_Typicality.xlsx'\n",
    "ctrl_data_a = pd.read_excel(file_name, sheetname='ctrl-a') # import a in the control group\n",
    "#ctrl_data_a.head()"
   ]
  },
  {
   "cell_type": "code",
   "execution_count": 113,
   "metadata": {},
   "outputs": [],
   "source": [
    "ctrl_proto_a = ctrl_data_a.groupby('NS_SFPs')[['Prototypicality']].mean() # NS prototypicality of W + a\n",
    "#ctrl_proto_a"
   ]
  },
  {
   "cell_type": "code",
   "execution_count": 56,
   "metadata": {},
   "outputs": [],
   "source": [
    "ctrl_freq_a1 = ctrl_data_a.groupby('NS_SFPs')[['L2_Phase1']].sum() # count frequency of W + a in Phase 1\n",
    "ctrl_freq_a1 = ctrl_freq_a1.fillna(0) # Fill up NaN with zeros\n",
    "ctrl_freq_a2 = ctrl_data_a.groupby('NS_SFPs')[['L2_Phase2']].sum() # count frequency of W + a in Phase 2\n",
    "ctrl_freq_a2 = ctrl_freq_a2.fillna(0)\n",
    "ctrl_freq_a3 = ctrl_data_a.groupby('NS_SFPs')[['L2_Phase3']].sum() # count frequency of W + a in Phase 3\n",
    "ctrl_freq_a3 = ctrl_freq_a3.fillna(0)"
   ]
  },
  {
   "cell_type": "code",
   "execution_count": 165,
   "metadata": {},
   "outputs": [
    {
     "data": {
      "text/plain": [
       "<matplotlib.text.Text at 0x113ba5b00>"
      ]
     },
     "execution_count": 165,
     "metadata": {},
     "output_type": "execute_result"
    },
    {
     "data": {
      "image/png": "[encoded data removed]",
      "text/plain": [
       "<matplotlib.figure.Figure at 0x113a2ac50>"
      ]
     },
     "metadata": {},
     "output_type": "display_data"
    }
   ],
   "source": [
    "x_a1 = ctrl_freq_a1['L2_Phase1']\n",
    "x_a2 = ctrl_freq_a2['L2_Phase2']\n",
    "x_a3 = ctrl_freq_a3['L2_Phase3']\n",
    "y_a = ctrl_proto_a['Prototypicality']\n",
    "fig, axes = plt.subplots(ncols=3, sharey = True, sharex=True)\n",
    "axes[0].scatter(x_a1, y_a, alpha = 0.5)\n",
    "axes[1].scatter(x_a2, y_a, alpha = 0.5)\n",
    "axes[2].scatter(x_a3, y_a, alpha = 0.5)\n",
    "\n",
    "axes[0].set_title('Phase 1')\n",
    "axes[1].set_title('Phase 2')\n",
    "axes[2].set_title('Phase 3')"
   ]
  },
  {
   "cell_type": "code",
   "execution_count": 169,
   "metadata": {},
   "outputs": [],
   "source": [
    "# Save data to a csv file\n",
    "ctrl_freq_a = ctrl_data_a.groupby('NS_SFPs')[['L2_Phase1','L2_Phase2','L2_Phase3']].sum().reset_index()\n",
    "ctrl_proto_a = ctrl_data_a.groupby('NS_SFPs')[['Prototypicality']].mean().reset_index()\n",
    "ctrl_a = pd.merge(ctrl_proto_a,ctrl_freq_a, how='left', on='NS_SFPs') # data grouped by NS_SFPs\n",
    "ctrl_a.head()\n",
    "#ctrl_proto_a.set_index('NS_SFPs')\n",
    "ctrl_a.to_csv('Analysis_Prototypicality_ctrl_a.csv', encoding='utf-8')"
   ]
  },
  {
   "cell_type": "code",
   "execution_count": 206,
   "metadata": {},
   "outputs": [],
   "source": [
    "# sort data by prototypicalit\n",
    "ctrl_a2 = ctrl_a.dropna(thresh=3)\n",
    "ctrl_sorted_a = ctrl_a2.sort_values('Prototypicality', ascending=False)\n",
    "ctrl_sorted_a.to_csv('Analysis_prototypicality_ctrl_sorted_a.csv')\n",
    "#ctrl_sorted_a"
   ]
  },
  {
   "cell_type": "markdown",
   "metadata": {},
   "source": [
    "# Control: W + ba"
   ]
  },
  {
   "cell_type": "code",
   "execution_count": 62,
   "metadata": {},
   "outputs": [],
   "source": [
    "ctrl_data_ba = pd.read_excel(file_name, 'ctrl-ba')\n",
    "#ctrl_data_ba.head()"
   ]
  },
  {
   "cell_type": "code",
   "execution_count": 67,
   "metadata": {},
   "outputs": [],
   "source": [
    "#ctrl_proto_ba = ctrl_data_ba.groupby('NS_SFPs')[['Prototypicality']].mean()\n",
    "#ctrl_proto_ba # its type is dataframe"
   ]
  },
  {
   "cell_type": "code",
   "execution_count": 73,
   "metadata": {},
   "outputs": [],
   "source": [
    "ctrl_freq_ba1 = ctrl_data_ba.groupby('NS_SFPs')[['L2_Phase1']].sum()\n",
    "ctrl_freq_ba2 = ctrl_data_ba.groupby('NS_SFPs')[['L2_Phase2']].sum()\n",
    "ctrl_freq_ba3 = ctrl_data_ba.groupby('NS_SFPs')[['L2_Phase3']].sum()"
   ]
  },
  {
   "cell_type": "code",
   "execution_count": 90,
   "metadata": {},
   "outputs": [
    {
     "data": {
      "text/plain": [
       "<matplotlib.collections.PathCollection at 0x112338be0>"
      ]
     },
     "execution_count": 90,
     "metadata": {},
     "output_type": "execute_result"
    },
    {
     "data": {
      "image/png": "[encoded data removed]",
      "text/plain": [
       "<matplotlib.figure.Figure at 0x111810358>"
      ]
     },
     "metadata": {},
     "output_type": "display_data"
    }
   ],
   "source": [
    "x_ba1 = ctrl_freq_ba1.fillna(0)\n",
    "x_ba2 = ctrl_freq_ba2.fillna(0)\n",
    "x_ba3 = ctrl_freq_ba3.fillna(0)\n",
    "y_ba = ctrl_data_ba.groupby('NS_SFPs')['Prototypicality'].mean()\n",
    "fig, axes = plt.subplots(ncols=3, sharey=True)\n",
    "axes[0].scatter(x_ba1, y_ba, alpha = 0.5)\n",
    "axes[1].scatter(x_ba2, y_ba, alpha = 0.5)\n",
    "axes[2].scatter(x_ba3, y_ba, alpha = 0.5)"
   ]
  },
  {
   "cell_type": "code",
   "execution_count": 170,
   "metadata": {
    "collapsed": true
   },
   "outputs": [],
   "source": [
    "# Save data to a csv file\n",
    "ctrl_freq_ba = ctrl_data_ba.groupby('NS_SFPs')[['L2_Phase1','L2_Phase2','L2_Phase3']].sum().reset_index()\n",
    "ctrl_proto_ba = ctrl_data_ba.groupby('NS_SFPs')[['Prototypicality']].mean().reset_index()\n",
    "ctrl_ba = pd.merge(ctrl_proto_ba,ctrl_freq_ba, how='left', on='NS_SFPs')\n",
    "#ctrl_a.head()\n",
    "#ctrl_proto_ba.set_index('NS_SFPs')\n",
    "ctrl_ba.to_csv('Analysis_Prototypicality_ctrl_ba.csv', encoding='utf-8')"
   ]
  },
  {
   "cell_type": "code",
   "execution_count": 199,
   "metadata": {},
   "outputs": [],
   "source": [
    "# sort data by prototypicalit\n",
    "ctrl_ba2 = ctrl_ba.dropna(thresh=3)\n",
    "ctrl_sorted_ba = ctrl_ba2.sort_values('Prototypicality', ascending=False)\n",
    "ctrl_sorted_ba.to_csv('Analysis_prototypicality_ctrl_sorted_ba.csv')\n",
    "#ctrl_sorted_ba"
   ]
  },
  {
   "cell_type": "markdown",
   "metadata": {},
   "source": [
    "# Control: W + ne"
   ]
  },
  {
   "cell_type": "code",
   "execution_count": 81,
   "metadata": {},
   "outputs": [],
   "source": [
    "ctrl_data_ne = pd.read_excel(file_name, 'ctrl-ne')"
   ]
  },
  {
   "cell_type": "code",
   "execution_count": 82,
   "metadata": {
    "collapsed": true
   },
   "outputs": [],
   "source": [
    "ctrl_freq_ne1 = ctrl_data_ne.groupby('NS_SFPs')[['L2_Phase1']].sum()\n",
    "ctrl_freq_ne2 = ctrl_data_ne.groupby('NS_SFPs')[['L2_Phase2']].sum()\n",
    "ctrl_freq_ne3 = ctrl_data_ne.groupby('NS_SFPs')[['L2_Phase3']].sum()"
   ]
  },
  {
   "cell_type": "code",
   "execution_count": 91,
   "metadata": {},
   "outputs": [
    {
     "data": {
      "text/plain": [
       "<matplotlib.collections.PathCollection at 0x112540f28>"
      ]
     },
     "execution_count": 91,
     "metadata": {},
     "output_type": "execute_result"
    },
    {
     "data": {
      "image/png": "[encoded data removed]",
      "text/plain": [
       "<matplotlib.figure.Figure at 0x111ade5c0>"
      ]
     },
     "metadata": {},
     "output_type": "display_data"
    }
   ],
   "source": [
    "x_ne1 = ctrl_freq_ne1.fillna(0)\n",
    "x_ne2 = ctrl_freq_ne2.fillna(0)\n",
    "x_ne3 = ctrl_freq_ne3.fillna(0)\n",
    "y_ne = ctrl_data_ne.groupby('NS_SFPs')['Prototypicality'].mean()\n",
    "fig, axes = plt.subplots(ncols=3, sharey=True)\n",
    "axes[0].scatter(x_ne1, y_ne, alpha = 0.5)\n",
    "axes[1].scatter(x_ne2, y_ne, alpha = 0.5)\n",
    "axes[2].scatter(x_ne3, y_ne, alpha = 0.5)"
   ]
  },
  {
   "cell_type": "code",
   "execution_count": 138,
   "metadata": {
    "collapsed": true
   },
   "outputs": [],
   "source": [
    "# Save data to a csv file\n",
    "ctrl_freq_ne = ctrl_data_ne.groupby('NS_SFPs')[['L2_Phase1','L2_Phase2','L2_Phase3']].sum().reset_index()\n",
    "ctrl_proto_ne = ctrl_data_ne.groupby('NS_SFPs')[['Prototypicality']].mean().reset_index()\n",
    "ctrl_ne = pd.merge(ctrl_proto_ne,ctrl_freq_ne, how='left', on='NS_SFPs')\n",
    "#ctrl_ne.head()\n",
    "#ctrl_proto_ne.set_index('NS_SFPs')\n",
    "ctrl_ne.to_csv('Analysis_Prototypicality_ctrl_ne.csv', encoding='utf-8')"
   ]
  },
  {
   "cell_type": "code",
   "execution_count": 201,
   "metadata": {},
   "outputs": [],
   "source": [
    "# sort data by prototypicalit\n",
    "ctrl_ne2 = ctrl_ne.dropna(thresh=3)\n",
    "ctrl_sorted_ne = ctrl_ne2.sort_values('Prototypicality', ascending=False)\n",
    "ctrl_sorted_ne.to_csv('Analysis_prototypicality_ctrl_sorted_ne.csv')\n",
    "#ctrl_sorted_ne"
   ]
  },
  {
   "cell_type": "markdown",
   "metadata": {},
   "source": [
    "# Experiment: W + a"
   ]
  },
  {
   "cell_type": "code",
   "execution_count": 86,
   "metadata": {
    "collapsed": true
   },
   "outputs": [],
   "source": [
    "exp_data_a = pd.read_excel(file_name, 'exp-a')"
   ]
  },
  {
   "cell_type": "code",
   "execution_count": 87,
   "metadata": {},
   "outputs": [],
   "source": [
    "exp_freq_a1 = exp_data_a.groupby('NS_SFPs')[['L2_Phase1']].sum()\n",
    "exp_freq_a2 = exp_data_a.groupby('NS_SFPs')[['L2_Phase2']].sum()\n",
    "exp_freq_a3 = exp_data_a.groupby('NS_SFPs')[['L2_Phase3']].sum()"
   ]
  },
  {
   "cell_type": "code",
   "execution_count": 92,
   "metadata": {},
   "outputs": [
    {
     "data": {
      "text/plain": [
       "<matplotlib.collections.PathCollection at 0x112738e80>"
      ]
     },
     "execution_count": 92,
     "metadata": {},
     "output_type": "execute_result"
    },
    {
     "data": {
      "image/png": "[encoded data removed]",
      "text/plain": [
       "<matplotlib.figure.Figure at 0x1121877b8>"
      ]
     },
     "metadata": {},
     "output_type": "display_data"
    }
   ],
   "source": [
    "x_a1 = exp_freq_a1.fillna(0)\n",
    "x_a2 = exp_freq_a2.fillna(0)\n",
    "x_a3 = exp_freq_a3.fillna(0)\n",
    "y_a_exp = exp_data_a.groupby('NS_SFPs')['Prototypicality'].mean()\n",
    "fig, axes = plt.subplots(ncols=3, sharey=True)\n",
    "axes[0].scatter(x_a1, y_a_exp, alpha = 0.5)\n",
    "axes[1].scatter(x_a2, y_a_exp, alpha = 0.5)\n",
    "axes[2].scatter(x_a3, y_a_exp, alpha = 0.5)"
   ]
  },
  {
   "cell_type": "code",
   "execution_count": 140,
   "metadata": {
    "collapsed": true
   },
   "outputs": [],
   "source": [
    "# Save data to a csv file\n",
    "exp_freq_a = exp_data_a.groupby('NS_SFPs')[['L2_Phase1','L2_Phase2','L2_Phase3']].sum().reset_index()\n",
    "exp_proto_a = exp_data_a.groupby('NS_SFPs')[['Prototypicality']].mean().reset_index()\n",
    "exp_a = pd.merge(exp_proto_a,exp_freq_a, how='left', on='NS_SFPs')\n",
    "#exp_a.head()\n",
    "#exp_proto_a.set_index('NS_SFPs')\n",
    "exp_a.to_csv('Analysis_Prototypicality_exp_a.csv', encoding='utf-8')"
   ]
  },
  {
   "cell_type": "code",
   "execution_count": 207,
   "metadata": {},
   "outputs": [],
   "source": [
    "# sort data by prototypicalit\n",
    "exp_a2 =exp_a.dropna(thresh=3)\n",
    "exp_sorted_a = exp_a2.sort_values('Prototypicality', ascending=False)\n",
    "#exp_a2.sort_values(['L2_Phase1', 'L2_Phase2','L2_Phase3'], ascending=False)\n",
    "exp_sorted_a.to_csv('Analysis_prototypicality_exp_sorted_a.csv')\n",
    "#exp_sorted_a"
   ]
  },
  {
   "cell_type": "markdown",
   "metadata": {},
   "source": [
    "# Experiment: W + ba"
   ]
  },
  {
   "cell_type": "code",
   "execution_count": 93,
   "metadata": {
    "collapsed": true
   },
   "outputs": [],
   "source": [
    "exp_data_ba = pd.read_excel(file_name, 'exp-ba')"
   ]
  },
  {
   "cell_type": "code",
   "execution_count": 94,
   "metadata": {
    "collapsed": true
   },
   "outputs": [],
   "source": [
    "exp_freq_ba1 = exp_data_ba.groupby('NS_SFPs')[['L2_Phase1']].sum()\n",
    "exp_freq_ba2 = exp_data_ba.groupby('NS_SFPs')[['L2_Phase2']].sum()\n",
    "exp_freq_ba3 = exp_data_ba.groupby('NS_SFPs')[['L2_Phase3']].sum()"
   ]
  },
  {
   "cell_type": "code",
   "execution_count": 103,
   "metadata": {},
   "outputs": [
    {
     "data": {
      "text/plain": [
       "<matplotlib.collections.PathCollection at 0x113142e48>"
      ]
     },
     "execution_count": 103,
     "metadata": {},
     "output_type": "execute_result"
    },
    {
     "data": {
      "image/png": "[encoded data removed]",
      "text/plain": [
       "<matplotlib.figure.Figure at 0x112d41c18>"
      ]
     },
     "metadata": {},
     "output_type": "display_data"
    }
   ],
   "source": [
    "x_ba1 = exp_freq_ba1.fillna(0)\n",
    "x_ba2 = exp_freq_ba2.fillna(0)\n",
    "x_ba3 = exp_freq_ba3.fillna(0)\n",
    "y_ba_exp = exp_data_ba.groupby('NS_SFPs')['Prototypicality'].mean()\n",
    "fig, axes = plt.subplots(ncols=3, sharey=True, sharex=True)\n",
    "axes[0].scatter(x_ba1, y_ba_exp, alpha = 0.5)\n",
    "axes[1].scatter(x_ba2, y_ba_exp, alpha = 0.5)\n",
    "axes[2].scatter(x_ba3, y_ba_exp, alpha = 0.5)"
   ]
  },
  {
   "cell_type": "code",
   "execution_count": 141,
   "metadata": {
    "collapsed": true
   },
   "outputs": [],
   "source": [
    "# Save data to a csv file\n",
    "exp_freq_ba = exp_data_ba.groupby('NS_SFPs')[['L2_Phase1','L2_Phase2','L2_Phase3']].sum().reset_index()\n",
    "exp_proto_ba = exp_data_ba.groupby('NS_SFPs')[['Prototypicality']].mean().reset_index()\n",
    "exp_ba = pd.merge(exp_proto_ba,exp_freq_ba, how='left', on='NS_SFPs')\n",
    "#exp_ba.head()\n",
    "#exp_proto_ba.set_index('NS_SFPs')\n",
    "exp_ba.to_csv('Analysis_Prototypicality_exp_ba.csv', encoding='utf-8')"
   ]
  },
  {
   "cell_type": "code",
   "execution_count": 208,
   "metadata": {},
   "outputs": [],
   "source": [
    "exp_ba2 =exp_ba.dropna(thresh=3)\n",
    "exp_sorted_ba = exp_ba2.sort_values('Prototypicality', ascending=False)\n",
    "exp_sorted_ba.to_csv('Analysis_prototypicality_exp_sorted_ba.csv')\n",
    "#exp_sorted_ba"
   ]
  },
  {
   "cell_type": "markdown",
   "metadata": {},
   "source": [
    "# Experiment: W + ne"
   ]
  },
  {
   "cell_type": "code",
   "execution_count": 97,
   "metadata": {
    "collapsed": true
   },
   "outputs": [],
   "source": [
    "exp_data_ne = pd.read_excel(file_name, 'exp-ne')"
   ]
  },
  {
   "cell_type": "code",
   "execution_count": 98,
   "metadata": {
    "collapsed": true
   },
   "outputs": [],
   "source": [
    "exp_freq_ne1 = exp_data_ne.groupby('NS_SFPs')[['L2_Phase1']].sum()\n",
    "exp_freq_ne2 = exp_data_ne.groupby('NS_SFPs')[['L2_Phase2']].sum()\n",
    "exp_freq_ne3 = exp_data_ne.groupby('NS_SFPs')[['L2_Phase3']].sum()"
   ]
  },
  {
   "cell_type": "code",
   "execution_count": 100,
   "metadata": {},
   "outputs": [
    {
     "data": {
      "text/plain": [
       "<matplotlib.collections.PathCollection at 0x112b6ce48>"
      ]
     },
     "execution_count": 100,
     "metadata": {},
     "output_type": "execute_result"
    },
    {
     "data": {
      "image/png": "[encoded data removed]",
      "text/plain": [
       "<matplotlib.figure.Figure at 0x111674cf8>"
      ]
     },
     "metadata": {},
     "output_type": "display_data"
    }
   ],
   "source": [
    "x_ne1 = exp_freq_ne1.fillna(0)\n",
    "x_ne2 = exp_freq_ne2.fillna(0)\n",
    "x_ne3 = exp_freq_ne3.fillna(0)\n",
    "y_ne_exp = exp_data_ne.groupby('NS_SFPs')['Prototypicality'].mean()\n",
    "fig, axes = plt.subplots(ncols=3, sharey=True)\n",
    "axes[0].scatter(x_ne1, y_ne_exp, alpha = 0.5)\n",
    "axes[1].scatter(x_ne2, y_ne_exp, alpha = 0.5)\n",
    "axes[2].scatter(x_ne3, y_ne_exp, alpha = 0.5)"
   ]
  },
  {
   "cell_type": "code",
   "execution_count": 139,
   "metadata": {
    "collapsed": true
   },
   "outputs": [],
   "source": [
    "# Save data to a csv file\n",
    "exp_freq_ne = exp_data_ne.groupby('NS_SFPs')[['L2_Phase1','L2_Phase2','L2_Phase3']].sum().reset_index()\n",
    "exp_proto_ne = exp_data_ne.groupby('NS_SFPs')[['Prototypicality']].mean().reset_index()\n",
    "exp_ne = pd.merge(exp_proto_ne,exp_freq_ne, how='left', on='NS_SFPs')\n",
    "#exp_ne.head()\n",
    "#exp_proto_ne.set_index('NS_SFPs')\n",
    "exp_ne.to_csv('Analysis_Prototypicality_exp_ne.csv', encoding='utf-8')"
   ]
  },
  {
   "cell_type": "code",
   "execution_count": 209,
   "metadata": {},
   "outputs": [],
   "source": [
    "exp_ne2 =exp_ne.dropna(thresh=3)\n",
    "exp_sorted_ne = exp_ne2.sort_values('Prototypicality', ascending=False)\n",
    "exp_sorted_ne.to_csv('Analysis_prototypicality_exp_sorted_ne.csv')\n",
    "#exp_sorted_ne"
   ]
  },
  {
   "cell_type": "markdown",
   "metadata": {},
   "source": [
    "# Concate a, ba, ne in one file"
   ]
  },
  {
   "cell_type": "code",
   "execution_count": 149,
   "metadata": {
    "collapsed": true
   },
   "outputs": [],
   "source": [
    "# Control group\n",
    "ctrl_frame = [ctrl_a, ctrl_ba, ctrl_ne]\n",
    "ctrl_all = pd.concat(ctrl_frame)\n",
    "ctrl_all.to_csv('Analysis_Prototypicality_exp_all.csv',encoding='utf-8')"
   ]
  },
  {
   "cell_type": "code",
   "execution_count": 183,
   "metadata": {},
   "outputs": [
    {
     "data": {
      "text/html": [
       "<div>\n",
       "<style>\n",
       "    .dataframe thead tr:only-child th {\n",
       "        text-align: right;\n",
       "    }\n",
       "\n",
       "    .dataframe thead th {\n",
       "        text-align: left;\n",
       "    }\n",
       "\n",
       "    .dataframe tbody tr th {\n",
       "        vertical-align: top;\n",
       "    }\n",
       "</style>\n",
       "<table border=\"1\" class=\"dataframe\">\n",
       "  <thead>\n",
       "    <tr style=\"text-align: right;\">\n",
       "      <th></th>\n",
       "      <th>NS_SFPs</th>\n",
       "      <th>Prototypicality</th>\n",
       "      <th>L2_Phase1</th>\n",
       "      <th>L2_Phase2</th>\n",
       "      <th>L2_Phase3</th>\n",
       "    </tr>\n",
       "  </thead>\n",
       "  <tbody>\n",
       "    <tr>\n",
       "      <th>0</th>\n",
       "      <td>L2: 我炒过冰淇淋。</td>\n",
       "      <td>67.666667</td>\n",
       "      <td>NaN</td>\n",
       "      <td>NaN</td>\n",
       "      <td>NaN</td>\n",
       "    </tr>\n",
       "    <tr>\n",
       "      <th>1</th>\n",
       "      <td>NS: 哦哦</td>\n",
       "      <td>70.000000</td>\n",
       "      <td>NaN</td>\n",
       "      <td>NaN</td>\n",
       "      <td>NaN</td>\n",
       "    </tr>\n",
       "    <tr>\n",
       "      <th>2</th>\n",
       "      <td>district啊</td>\n",
       "      <td>71.666667</td>\n",
       "      <td>NaN</td>\n",
       "      <td>NaN</td>\n",
       "      <td>NaN</td>\n",
       "    </tr>\n",
       "    <tr>\n",
       "      <th>3</th>\n",
       "      <td>hill啊</td>\n",
       "      <td>55.000000</td>\n",
       "      <td>NaN</td>\n",
       "      <td>NaN</td>\n",
       "      <td>NaN</td>\n",
       "    </tr>\n",
       "    <tr>\n",
       "      <th>4</th>\n",
       "      <td>incline啊</td>\n",
       "      <td>71.666667</td>\n",
       "      <td>NaN</td>\n",
       "      <td>NaN</td>\n",
       "      <td>NaN</td>\n",
       "    </tr>\n",
       "  </tbody>\n",
       "</table>\n",
       "</div>"
      ],
      "text/plain": [
       "       NS_SFPs  Prototypicality  L2_Phase1  L2_Phase2  L2_Phase3\n",
       "0  L2: 我炒过冰淇淋。        67.666667        NaN        NaN        NaN\n",
       "1       NS: 哦哦        70.000000        NaN        NaN        NaN\n",
       "2    district啊        71.666667        NaN        NaN        NaN\n",
       "3        hill啊        55.000000        NaN        NaN        NaN\n",
       "4     incline啊        71.666667        NaN        NaN        NaN"
      ]
     },
     "execution_count": 183,
     "metadata": {},
     "output_type": "execute_result"
    }
   ],
   "source": [
    "# Concate a, ba, ne in one file\n",
    "exp_frame = [exp_a, exp_ba, exp_ne]\n",
    "exp_all = pd.concat(exp_frame)\n",
    "exp_all.to_csv('Analysis_Prototypicality_exp_all.csv',encoding='utf-8')\n",
    "exp_all.head()"
   ]
  },
  {
   "cell_type": "code",
   "execution_count": 186,
   "metadata": {},
   "outputs": [
    {
     "data": {
      "text/plain": [
       "<matplotlib.collections.PathCollection at 0x110481f98>"
      ]
     },
     "execution_count": 186,
     "metadata": {},
     "output_type": "execute_result"
    },
    {
     "data": {
      "image/png": "[encoded data removed]",
      "text/plain": [
       "<matplotlib.figure.Figure at 0x113fcb320>"
      ]
     },
     "metadata": {},
     "output_type": "display_data"
    }
   ],
   "source": [
    "exp_all=exp_all.fillna(0)\n",
    "fig,ax = plt.subplots()\n",
    "ax.scatter(exp_all['L2_Phase1'],exp_all['Prototypicality'], alpha=0.5)"
   ]
  },
  {
   "cell_type": "code",
   "execution_count": null,
   "metadata": {
    "collapsed": true
   },
   "outputs": [],
   "source": []
  }
 ],
 "metadata": {
  "kernelspec": {
   "display_name": "Python 3",
   "language": "python",
   "name": "python3"
  },
  "language_info": {
   "codemirror_mode": {
    "name": "ipython",
    "version": 3
   },
   "file_extension": ".py",
   "mimetype": "text/x-python",
   "name": "python",
   "nbconvert_exporter": "python",
   "pygments_lexer": "ipython3",
   "version": "3.6.2"
  }
 },
 "nbformat": 4,
 "nbformat_minor": 2
}
